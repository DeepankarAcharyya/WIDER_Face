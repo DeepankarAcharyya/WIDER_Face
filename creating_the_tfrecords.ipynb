{
  "nbformat": 4,
  "nbformat_minor": 0,
  "metadata": {
    "colab": {
      "name": "creating the tfrecords.ipynb",
      "provenance": [],
      "mount_file_id": "1RBzCFCI4yQlQ4M-k8xaol1JHuYe8_c8L",
      "authorship_tag": "ABX9TyMXrmLV53w8lCRAU1JZZ7ns",
      "include_colab_link": true
    },
    "kernelspec": {
      "name": "python3",
      "display_name": "Python 3"
    }
  },
  "cells": [
    {
      "cell_type": "markdown",
      "metadata": {
        "id": "view-in-github",
        "colab_type": "text"
      },
      "source": [
        "<a href=\"https://colab.research.google.com/github/DeepankarAcharyya/WIDER_Face/blob/main/creating_the_tfrecords.ipynb\" target=\"_parent\"><img src=\"https://colab.research.google.com/assets/colab-badge.svg\" alt=\"Open In Colab\"/></a>"
      ]
    },
    {
      "cell_type": "code",
      "metadata": {
        "colab": {
          "base_uri": "https://localhost:8080/"
        },
        "id": "P3trdq-bO6vp",
        "outputId": "2a858600-6b28-40cf-9828-a4ca52306df4"
      },
      "source": [
        "%cd /content/drive/MyDrive/Projects-Misc/Wobot_EfficientDnet"
      ],
      "execution_count": 1,
      "outputs": [
        {
          "output_type": "stream",
          "text": [
            "/content/drive/MyDrive/Projects-Misc/Wobot_EfficientDnet\n"
          ],
          "name": "stdout"
        }
      ]
    },
    {
      "cell_type": "code",
      "metadata": {
        "id": "xvauBO5dh_Kl"
      },
      "source": [
        "import tensorflow as tf\r\n",
        "import numpy as np\r\n",
        "import cv2\r\n",
        "import os\r\n",
        "import hashlib"
      ],
      "execution_count": 2,
      "outputs": []
    },
    {
      "cell_type": "markdown",
      "metadata": {
        "id": "w9BegvfXk64A"
      },
      "source": [
        "## Phase I : Listing the image paths"
      ]
    },
    {
      "cell_type": "code",
      "metadata": {
        "id": "5_Tx-xQnk5q1"
      },
      "source": [
        "base_dir = \"/content/drive/My Drive/Projects-Misc/Wobot_EfficientDnet\""
      ],
      "execution_count": 4,
      "outputs": []
    },
    {
      "cell_type": "code",
      "metadata": {
        "id": "OXNjFBzulBfx"
      },
      "source": [
        "train_path = os.path.join(base_dir,\"WIDER_train\",\"images\")\r\n",
        "val_path = os.path.join(base_dir,\"WIDER_val\",\"images\")"
      ],
      "execution_count": 5,
      "outputs": []
    },
    {
      "cell_type": "code",
      "metadata": {
        "colab": {
          "base_uri": "https://localhost:8080/"
        },
        "id": "O-7nUz47lq9j",
        "outputId": "02def516-f1c9-41df-e5e9-582f30256e6d"
      },
      "source": [
        "train_images=[]\r\n",
        "for directory in os.listdir(train_path):\r\n",
        "  sub_directory = os.path.join(train_path,directory)\r\n",
        "  train_images.extend(os.listdir(sub_directory))\r\n",
        "\r\n",
        "print(\"Found {} images for training.\".format(len(train_images)))"
      ],
      "execution_count": 7,
      "outputs": [
        {
          "output_type": "stream",
          "text": [
            "Found 6880 images for training.\n"
          ],
          "name": "stdout"
        }
      ]
    },
    {
      "cell_type": "code",
      "metadata": {
        "colab": {
          "base_uri": "https://localhost:8080/"
        },
        "id": "8a4YjEUQmdHc",
        "outputId": "56b6206f-b331-4dc4-a9e4-81974eda6c4d"
      },
      "source": [
        "train_images[:5]"
      ],
      "execution_count": 8,
      "outputs": [
        {
          "output_type": "execute_result",
          "data": {
            "text/plain": [
              "['1_Handshaking_Handshaking_1_715.jpg',\n",
              " '1_Handshaking_Handshaking_1_438.jpg',\n",
              " '1_Handshaking_Handshaking_1_613.jpg',\n",
              " '1_Handshaking_Handshaking_1_701.jpg',\n",
              " '1_Handshaking_Handshaking_1_65.jpg']"
            ]
          },
          "metadata": {
            "tags": []
          },
          "execution_count": 8
        }
      ]
    },
    {
      "cell_type": "code",
      "metadata": {
        "colab": {
          "base_uri": "https://localhost:8080/"
        },
        "id": "7kWK1TPamO2B",
        "outputId": "14c5c77a-1369-4621-dd6a-2c6141ef4692"
      },
      "source": [
        "val_images=[]\r\n",
        "for directory in os.listdir(val_path):\r\n",
        "  sub_directory = os.path.join(val_path,directory)\r\n",
        "  val_images.extend(os.listdir(sub_directory))\r\n",
        "\r\n",
        "print(\"Found {} images for validating.\".format(len(val_images)))"
      ],
      "execution_count": 9,
      "outputs": [
        {
          "output_type": "stream",
          "text": [
            "Found 3226 images for validating.\n"
          ],
          "name": "stdout"
        }
      ]
    },
    {
      "cell_type": "markdown",
      "metadata": {
        "id": "I7VXTSerm_rB"
      },
      "source": [
        "## Phase II : Parsing the annotation file"
      ]
    },
    {
      "cell_type": "code",
      "metadata": {
        "id": "VFR_1fDemqeA"
      },
      "source": [
        "annotation_path = os.path.join(base_dir,\"wider_face_split\")\r\n",
        "val_annotation_path = os.path.join(annotation_path,\"wider_face_val_bbx_gt.txt\")\r\n",
        "train_annotation_path = os.path.join(annotation_path,\"wider_face_train_bbx_gt.txt\")"
      ],
      "execution_count": 10,
      "outputs": []
    },
    {
      "cell_type": "code",
      "metadata": {
        "colab": {
          "base_uri": "https://localhost:8080/"
        },
        "id": "OSUHj36DoOEk",
        "outputId": "215486a0-ef5f-4696-948c-ae4865bf2ac2"
      },
      "source": [
        "train_annot = []\r\n",
        "with open(train_annotation_path) as f:\r\n",
        "  for j in range(len(train_images)):\r\n",
        "    dir,name = f.readline().split('/')\r\n",
        "    dir = dir.split('__')[0]\r\n",
        "    dir = os.path.join(train_path,dir)    \r\n",
        "    n = int(f.readline().rstrip())\r\n",
        "    co_ords=[]\r\n",
        "    if n==0:\r\n",
        "      co_ord = f.readline().split()\r\n",
        "      co_ords.append(co_ord)\r\n",
        "    else:\r\n",
        "      for i in range(n):\r\n",
        "        co_ord = f.readline().split()\r\n",
        "        co_ords.append(co_ord)\r\n",
        "    train_annot.append({'image':name,'n':n,'co_ords':co_ords, 'path' : dir })\r\n",
        "\r\n",
        "print(\"catalogued {} images\".format(len(train_annot)))"
      ],
      "execution_count": 24,
      "outputs": [
        {
          "output_type": "stream",
          "text": [
            "catalogued 6880 images\n"
          ],
          "name": "stdout"
        }
      ]
    },
    {
      "cell_type": "code",
      "metadata": {
        "id": "Qo0FRQUlv5Vl"
      },
      "source": [
        ""
      ],
      "execution_count": null,
      "outputs": []
    }
  ]
}